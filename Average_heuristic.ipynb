{
  "nbformat": 4,
  "nbformat_minor": 0,
  "metadata": {
    "colab": {
      "name": "Average_heuristic.ipynb",
      "provenance": [],
      "collapsed_sections": [],
      "include_colab_link": true
    },
    "kernelspec": {
      "name": "python3",
      "display_name": "Python 3"
    },
    "language_info": {
      "name": "python"
    }
  },
  "cells": [
    {
      "cell_type": "markdown",
      "metadata": {
        "id": "view-in-github",
        "colab_type": "text"
      },
      "source": [
        "<a href=\"https://colab.research.google.com/github/priyankayadav021/Leaf-Constraint-Minimum-Spanning-Tree/blob/main/Average_heuristic.ipynb\" target=\"_parent\"><img src=\"https://colab.research.google.com/assets/colab-badge.svg\" alt=\"Open In Colab\"/></a>"
      ]
    },
    {
      "cell_type": "code",
      "execution_count": null,
      "metadata": {
        "id": "Tlb9l6R5ApGE"
      },
      "outputs": [],
      "source": [
        "import numpy as np\n",
        "import sys\n",
        "import networkx as nx\n",
        "from matplotlib import pyplot as plt\n",
        "n=300\n",
        "k=30"
      ]
    },
    {
      "cell_type": "code",
      "source": [
        "file=open(\"lcmstr300.10\")\n",
        "arr = np.genfromtxt(file,delimiter=' ',dtype=None)\n",
        "graph=[]\n",
        "for i in range(n):\n",
        "  data = {}\n",
        "  for j in range(n):\n",
        "    data[j]=arr[i][j]\n",
        "  graph.append(data)\n",
        "  "
      ],
      "metadata": {
        "id": "fH7hvRcMB_Wb"
      },
      "execution_count": null,
      "outputs": []
    },
    {
      "cell_type": "code",
      "source": [
        "import collections \n",
        "sort_graph=[]\n",
        "for dic in graph:\n",
        "  data = sorted(dic.items(), key = lambda kv:(kv[1], kv[0]))\n",
        "  data1 = collections.OrderedDict(data)\n",
        "  sort_graph.append(data1)\n",
        "#sort_graph[0]"
      ],
      "metadata": {
        "id": "jZahy1K1TM5b"
      },
      "execution_count": null,
      "outputs": []
    },
    {
      "cell_type": "code",
      "source": [
        "centre=[]\n",
        "for i in range(k):\n",
        "  index=0\n",
        "  min=99\n",
        "  for j in range(n):\n",
        "    if j in centre:\n",
        "        continue\n",
        "    else:\n",
        "      count=0\n",
        "      sum=0\n",
        "      for key,value in sort_graph[j].items():\n",
        "        if key in centre:\n",
        "          continue\n",
        "        else:\n",
        "          if(count<k):\n",
        "            sum=sum+value\n",
        "            count+=1\n",
        "          else:\n",
        "            break\n",
        "      if(min>sum):\n",
        "        min=sum\n",
        "        index=j\n",
        "  centre.append(index)\n",
        "print(centre)"
      ],
      "metadata": {
        "colab": {
          "base_uri": "https://localhost:8080/"
        },
        "id": "46lHSQtFUpYH",
        "outputId": "a5192cd6-86f6-4d95-f8c9-3b89f200263f"
      },
      "execution_count": null,
      "outputs": [
        {
          "output_type": "stream",
          "name": "stdout",
          "text": [
            "[131, 123, 176, 79, 99, 224, 276, 299, 223, 43, 52, 218, 89, 128, 10, 209, 248, 107, 166, 34, 264, 60, 187, 240, 56, 170, 6, 39, 48, 147]\n"
          ]
        }
      ]
    },
    {
      "cell_type": "code",
      "source": [
        "def minKey(key,mstSet):\n",
        "\t\tmin = sys.float_info.max\n",
        "\t\tmin_index=0\n",
        "\t\tfor v in range(n):\n",
        "\t\t\t#print(\"key value \",key[v], \"of \", v)\n",
        "\t\t\tif (key[v] < min and mstSet[v] == False):\n",
        "\t\t\t\tmin = key[v]\n",
        "\t\t\t\tmin_index = v\n",
        "\t\t\t\t#print(\"selected \", key[v], \"index \", v)\n",
        "\t\treturn min_index\n",
        "\n",
        "\t\n",
        "def primMST(x,graph,centre):\n",
        "\t\ttree = [[0 for x in range(n)] for y in range(n)]\n",
        "\t\tmstSet = [True]*n\n",
        "\t\tflag = [0]*n\n",
        "\t\tkey = [sys.float_info.max]*n\n",
        "\t\tfor a in range(0, k):\n",
        "\t\t\tmstSet[centre[a]] = False\t\t\t\n",
        "\t\tparent = [None] * n\n",
        "\t\tkey[x] = 0.0\n",
        "\t\tparent[x] = -1\t\n",
        "\t\tfor cout in range(k):\n",
        "\t\t\tu = minKey(key,mstSet)\n",
        "\t\t\tmstSet[u] = True\n",
        "\t\t\t#print(\"value of u \", u)\n",
        "\t\t\n",
        "\t\t\tfor v in range(n):\n",
        "\t\t\t\tif(graph[u][v] > 0 and mstSet[v] == False and key[v] > graph[u][v]):\n",
        "\t\t\t\t\tparent[v] = u\n",
        "\t\t\t\t\tflag[v] = 1\n",
        "\t\t\t\t\tkey[v] = graph[u][v]\n",
        "\n",
        "\t\tweight = 0.0\n",
        "\t\tfor i in range(n):\n",
        "\t\t\t\tif(flag[i]):\n",
        "\t\t\t\t\ttree[parent[i]][i] = graph[parent[i]][i]\n",
        "\t\t\t\t\ttree[i][parent[i]] = graph[i][parent[i]]\n",
        "\t\tfor i in range(n):\n",
        "\t\t\t\tfor j in range(n):\n",
        "\t\t\t\t\t if(i<=j):\n",
        "\t\t\t\t\t\t weight+= tree[i][j]\n",
        "\t\t#print(weight)\n",
        "            #print(tree[i][j],end=\",\")\n",
        "\t\t#tree_plot(tree)\n",
        "\t\treturn tree"
      ],
      "metadata": {
        "id": "kSSELoTcm592"
      },
      "execution_count": null,
      "outputs": []
    },
    {
      "cell_type": "code",
      "source": [
        "def tree_plot(tree):\n",
        "  l=[]\n",
        "  #file=open(\"b.txt\")\n",
        "  #arr = np.genfromtxt(file,delimiter=' ',dtype=None)\n",
        "  arr = np.array(tree)\n",
        "  #print(arr)\n",
        "  for i in range(0,n):\n",
        "      for j in range(0,n):\n",
        "          if(arr[i][j] != 0.):\n",
        "              l.append((i,j))\n",
        "  #print(l)\n",
        "  plt.figure(figsize = (10, 6))\n",
        "  G=nx.DiGraph()\n",
        "  G.add_edges_from(l)\n",
        "  pos=nx.spring_layout(G)\n",
        "  nx.draw_networkx_nodes(G,pos,node_size=205)\n",
        "  nx.draw_networkx_edges(G,pos,edgelist=G.edges(),edge_color='red')\n",
        "  nx.draw_networkx_labels(G,pos)\n",
        "  plt.show()"
      ],
      "metadata": {
        "id": "WAO-eRqjna5X"
      },
      "execution_count": null,
      "outputs": []
    },
    {
      "cell_type": "code",
      "source": [
        "def make_tree():\n",
        "  for i in range(n):\n",
        "    if(leaf[i]):\n",
        "      #print(i,end=\" is leaf\\n\")\n",
        "      min=sys.float_info.max\n",
        "      temp=0\n",
        "      for values in centre: \n",
        "          #print(values,end=\" is int\\n\")\n",
        "          #print(arr[i][values],end=\" is weight\\n\")\n",
        "          if(min>arr[i][values]):\n",
        "            min=arr[i][values]\n",
        "            #print(min)\n",
        "            temp=values\n",
        "      #print(min,end=\"final min\\n\")\n",
        "      tree[i][temp]=min\n",
        "      tree[temp][i]=min"
      ],
      "metadata": {
        "id": "EvPop5z4ngtD"
      },
      "execution_count": null,
      "outputs": []
    },
    {
      "cell_type": "code",
      "source": [
        "leaf=[1]*n\n",
        "\t#print(intnode)\n",
        "tree=primMST(centre[0],arr,centre)\n",
        "for i in range(k):\n",
        "\tleaf[centre[i]]=0\n",
        "make_tree()\n",
        "weight=0.0\n",
        "for i in range(n):\n",
        "\t\tfor j in range(n):\n",
        "\t\t\t\tif(i<=j):\n",
        "\t\t\t\t\tweight+= tree[i][j]\n",
        "print(weight)\n",
        "#tree_plot(tree)"
      ],
      "metadata": {
        "colab": {
          "base_uri": "https://localhost:8080/"
        },
        "id": "fFxkoiFsn0Zz",
        "outputId": "84803e31-2147-42c5-d497-a901321fc510"
      },
      "execution_count": null,
      "outputs": [
        {
          "output_type": "stream",
          "name": "stdout",
          "text": [
            "9.748571999999996\n"
          ]
        }
      ]
    }
  ]
}