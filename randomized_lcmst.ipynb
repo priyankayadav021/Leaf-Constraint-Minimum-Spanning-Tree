{
  "nbformat": 4,
  "nbformat_minor": 0,
  "metadata": {
    "colab": {
      "name": "randomized_lcmst.ipynb",
      "provenance": [],
      "collapsed_sections": [],
      "include_colab_link": true
    },
    "kernelspec": {
      "name": "python3",
      "display_name": "Python 3"
    },
    "language_info": {
      "name": "python"
    }
  },
  "cells": [
    {
      "cell_type": "markdown",
      "metadata": {
        "id": "view-in-github",
        "colab_type": "text"
      },
      "source": [
        "<a href=\"https://colab.research.google.com/github/priyankayadav021/Leaf-Constraint-Minimum-Spanning-Tree/blob/main/randomized_lcmst.ipynb\" target=\"_parent\"><img src=\"https://colab.research.google.com/assets/colab-badge.svg\" alt=\"Open In Colab\"/></a>"
      ]
    },
    {
      "cell_type": "code",
      "source": [
        "import numpy as np\n",
        "import sys\n",
        "import networkx as nx\n",
        "from matplotlib import pyplot as plt\n",
        "n=100\n",
        "k=10"
      ],
      "metadata": {
        "id": "c7m30kQAWe-i"
      },
      "execution_count": null,
      "outputs": []
    },
    {
      "cell_type": "code",
      "execution_count": null,
      "metadata": {
        "id": "xB2_R5ggUvus"
      },
      "outputs": [],
      "source": [
        "file=open(\"estein100.txt\")\n",
        "arr = np.genfromtxt(file,delimiter=' ',dtype=None)\n",
        "print(arr)\n",
        "leaf=[1]*n"
      ]
    },
    {
      "cell_type": "code",
      "source": [
        "def minKey(key,mstSet):\n",
        "\t\tmin = sys.float_info.max\n",
        "\t\tmin_index=0\n",
        "\t\tfor v in range(n):\n",
        "\t\t\t#print(\"key value \",key[v], \"of \", v)\n",
        "\t\t\tif (key[v] < min and mstSet[v] == False):\n",
        "\t\t\t\tmin = key[v]\n",
        "\t\t\t\tmin_index = v\n",
        "\t\t\t\t#print(\"selected \", key[v], \"index \", v)\n",
        "\t\treturn min_index\n",
        "\n",
        "\t\n",
        "def primMST(x,graph,centre):\n",
        "\t\ttree = [[0 for x in range(n)] for y in range(n)]\n",
        "\t\tmstSet = [True]*n\n",
        "\t\tflag = [0]*n\n",
        "\t\tkey = [sys.float_info.max]*n\n",
        "\t\tfor a in range(0, k):\n",
        "\t\t\tmstSet[centre[a]] = False\t\t\t\n",
        "\t\tparent = [None] * n\n",
        "\t\tkey[x] = 0.0\n",
        "\t\tparent[x] = -1\t\n",
        "\t\tfor cout in range(k):\n",
        "\t\t\tu = minKey(key,mstSet)\n",
        "\t\t\tmstSet[u] = True\n",
        "\t\t\t#print(\"value of u \", u)\n",
        "\t\t\n",
        "\t\t\tfor v in range(n):\n",
        "\t\t\t\tif(graph[u][v] > 0 and mstSet[v] == False and key[v] > graph[u][v]):\n",
        "\t\t\t\t\tparent[v] = u\n",
        "\t\t\t\t\tflag[v] = 1\n",
        "\t\t\t\t\tkey[v] = graph[u][v]\n",
        "\n",
        "\t\tweight = 0.0\n",
        "\t\tfor i in range(n):\n",
        "\t\t\t\tif(flag[i]):\n",
        "\t\t\t\t\ttree[parent[i]][i] = graph[parent[i]][i]\n",
        "\t\t\t\t\ttree[i][parent[i]] = graph[i][parent[i]]\n",
        "\t\tfor i in range(n):\n",
        "\t\t\t\tfor j in range(n):\n",
        "\t\t\t\t\t if(i<=j):\n",
        "\t\t\t\t\t\t weight+= tree[i][j]\n",
        "\t\t#print(weight)\n",
        "            #print(tree[i][j],end=\",\")\n",
        "\t\t#tree_plot(tree)\n",
        "\t\treturn tree"
      ],
      "metadata": {
        "id": "vIDaY4Ilek-B"
      },
      "execution_count": null,
      "outputs": []
    },
    {
      "cell_type": "code",
      "source": [
        "def tree_plot(tree):\n",
        "  l=[]\n",
        "  #file=open(\"b.txt\")\n",
        "  #arr = np.genfromtxt(file,delimiter=' ',dtype=None)\n",
        "  arr = np.array(tree)\n",
        "  #print(arr)\n",
        "  for i in range(0,n):\n",
        "      for j in range(0,n):\n",
        "          if(arr[i][j] != 0.):\n",
        "              l.append((i,j))\n",
        "  #print(l)\n",
        "  plt.figure(figsize = (10, 6))\n",
        "  G=nx.DiGraph()\n",
        "  G.add_edges_from(l)\n",
        "  pos=nx.spring_layout(G)\n",
        "  nx.draw_networkx_nodes(G,pos,node_size=205)\n",
        "  nx.draw_networkx_edges(G,pos,edgelist=G.edges(),edge_color='red')\n",
        "  nx.draw_networkx_labels(G,pos)\n",
        "  plt.show()"
      ],
      "metadata": {
        "id": "nzOOjLnpgT9v"
      },
      "execution_count": null,
      "outputs": []
    },
    {
      "cell_type": "code",
      "source": [
        "def make_tree():\n",
        "  for i in range(n):\n",
        "    if(leaf[i]):\n",
        "      #print(i,end=\" is leaf\\n\")\n",
        "      min=sys.float_info.max\n",
        "      temp=0\n",
        "      for values in intnode: \n",
        "          #print(values,end=\" is int\\n\")\n",
        "          #print(arr[i][values],end=\" is weight\\n\")\n",
        "          if(min>arr[i][values]):\n",
        "            min=arr[i][values]\n",
        "            #print(min)\n",
        "            temp=values\n",
        "      #print(min,end=\"final min\\n\")\n",
        "      tree[i][temp]=min\n",
        "      tree[temp][i]=min"
      ],
      "metadata": {
        "id": "H-7yT5Kyk1FP"
      },
      "execution_count": null,
      "outputs": []
    },
    {
      "cell_type": "code",
      "source": [
        "import random\n",
        "nodes = list(range(0,n))\n",
        "#print(nodes)\n",
        "minweight=sys.float_info.max\n",
        "for a in range(n):\n",
        "\tleaf=[1]*n\n",
        "\tintnode=random.sample(nodes, k)\n",
        "\t#print(intnode)\n",
        "\ttree=primMST(intnode[0],arr,intnode)\n",
        "\tfor i in range(k):\n",
        "\t\tleaf[intnode[i]]=0\n",
        "\tmake_tree()\n",
        "\tweight=0.0\n",
        "\tfor i in range(n):\n",
        "\t\t\tfor j in range(n):\n",
        "\t\t\t\t\tif(i<=j):\n",
        "\t\t\t\t\t\tweight+= tree[i][j]\n",
        "\tif(minweight>weight):\n",
        "\t\tminweight=weight\n",
        "print(minweight)\n",
        "tree_plot(tree)\n",
        "#print(avgarr[intnode[:k]])"
      ],
      "metadata": {
        "id": "oYq3DCP7XGi8"
      },
      "execution_count": null,
      "outputs": []
    }
  ]
}