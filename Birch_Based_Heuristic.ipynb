{
  "cells": [
    {
      "cell_type": "markdown",
      "metadata": {
        "id": "view-in-github",
        "colab_type": "text"
      },
      "source": [
        "<a href=\"https://colab.research.google.com/github/priyankayadav021/Leaf-Constraint-Minimum-Spanning-Tree/blob/main/Birch_Based_Heuristic.ipynb\" target=\"_parent\"><img src=\"https://colab.research.google.com/assets/colab-badge.svg\" alt=\"Open In Colab\"/></a>"
      ]
    },
    {
      "cell_type": "code",
      "execution_count": null,
      "metadata": {
        "id": "N66kPiCzl8Ij"
      },
      "outputs": [],
      "source": [
        "from sklearn.cluster import Birch\n",
        "import pandas as pd\n",
        "from matplotlib import pyplot as plt\n",
        "import numpy as np\n",
        "import networkx as nx\n",
        "from math import sqrt\n",
        "%matplotlib inline\n",
        "from typing import Sized\n",
        "import sys # Library for INT_MAX\n",
        "import timeit"
      ]
    },
    {
      "cell_type": "code",
      "execution_count": null,
      "metadata": {
        "id": "_3bUc5K-IKxo"
      },
      "outputs": [],
      "source": [
        "def dis_euclidean(x1,x2,y1,y2):\n",
        "  dist = sqrt((x1-x2)**2+(y1-y2)**2)\n",
        "  return dist"
      ]
    },
    {
      "cell_type": "code",
      "execution_count": null,
      "metadata": {
        "id": "imqPbdrboYCs"
      },
      "outputs": [],
      "source": [
        "def birch():\n",
        "  model = Birch(branching_factor = 10, n_clusters = k, threshold = 0)\n",
        "  model.fit(dataset)\n",
        "  pred = model.predict(dataset)\n",
        "  #centre=[0 for x in range(k)]\n",
        "  dataset['cluster'] = pred\n",
        "  dataset['node'] = np.arange(len(dataset))\n",
        "  #print(df.head())\n",
        "  centre=[]\n",
        "  for i in range(k):\n",
        "    sumx=0.0\n",
        "    sumy=0.0\n",
        "    count=0\n",
        "    for j in range(n):\n",
        "      if(dataset.cluster[j]==i):\n",
        "        sumx+=dataset.x[j]\n",
        "        sumy+=dataset.y[j]\n",
        "        count+=1\n",
        "    centre.append([sumx/count,sumy/count])\n",
        "\n",
        "  centres = pd.DataFrame(centre,columns=['x','y'])\n",
        "  #centres.head()\n",
        "  \n",
        "  count = 0\n",
        "  c = 0\n",
        "  dcentre=[]\n",
        "  while(count<k):\n",
        "    min = 999\n",
        "    for i in range(n):\n",
        "      if( count == dataset.cluster[i]):\n",
        "        #print(df.node[i])\n",
        "        dis = dis_euclidean(dataset.x[i], centres.x[count], dataset.y[i], centres.y[count])\n",
        "        if(min>dis):\n",
        "          min = dis\n",
        "          c = dataset.node[i]\n",
        "    #print(\"centre for cluster \")\n",
        "    #print(c)\n",
        "    dcentre.append(c)\n",
        "    count = count + 1\n",
        "\n",
        "  #print(dcentre)\n",
        "  return dcentre\n",
        "\n",
        "  "
      ]
    },
    {
      "cell_type": "code",
      "execution_count": null,
      "metadata": {
        "id": "tY2mdJeUeEpb"
      },
      "outputs": [],
      "source": [
        "def minKey(key,mstSet):\n",
        "\t\tmin = sys.float_info.max\n",
        "\t\tmin_index=0\n",
        "\t\tfor v in range(n):\n",
        "\t\t\tif (key[v] < min and mstSet[v] == False):\n",
        "\t\t\t\tmin = key[v]\n",
        "\t\t\t\tmin_index = v\n",
        "\t\treturn min_index\n",
        "\n",
        "\t\n",
        "def primMST(x):\n",
        "\t\ttree = [[0 for x in range(n)] for y in range(n)]\n",
        "\t\tmstSet = [True]*n\n",
        "\t\tflag = [0]*n\n",
        "\t\tkey = [sys.float_info.max]*n\n",
        "\t\tfor a in range(0, k):\n",
        "\t\t\tmstSet[centre[a]] = False\t\t\t\n",
        "\t\tparent = [None] * n\n",
        "\t\tkey[x] = 0.0\n",
        "\t\tparent[x] = -1\t\n",
        "\t\tfor cout in range(n):\n",
        "\t\t\tu = minKey(key,mstSet)\n",
        "\t\t\tmstSet[u] = True\n",
        "\t\t\n",
        "\t\t\tfor v in range(n):\n",
        "\t\t\t\tif(graph[u][v] > 0 and mstSet[v] == False and key[v] > graph[u][v]):\n",
        "\t\t\t\t\tparent[v] = u\n",
        "\t\t\t\t\tflag[v] = 1\n",
        "\t\t\t\t\tkey[v] = graph[u][v]\n",
        "\n",
        "\t\tweight = 0.0\n",
        "\t\tfor i in range(n):\n",
        "\t\t\t\tif(flag[i]):\n",
        "\t\t\t\t\ttree[parent[i]][i] = graph[parent[i]][i]\n",
        "\t\t\t\t\ttree[i][parent[i]] = graph[i][parent[i]]\n",
        "\t\tfor i in range(n):\n",
        "\t\t\t\tfor j in range(n):\n",
        "\t\t\t\t\t if(i<=j):\n",
        "\t\t\t\t\t\t weight+= tree[i][j]\n",
        "\t\t#tree_plot(tree)\n",
        "\t\treturn tree\n",
        "\t\t\n",
        "\t\t\n",
        "def make_tree(tree):\t\n",
        "\t\tcount=0\n",
        "\t\tdf=dataset\n",
        "\t\twhile(count<k):\n",
        "\t\t\tfor i in range(len(df.node)):\n",
        "\t\t\t\tif( count == df.cluster[i]):\n",
        "\t\t\t\t\ttree[centre[count]][df.node[i]] = graph[centre[count]][df.node[i]]\n",
        "\t\t\t\t\ttree[df.node[i]][centre[count]] = graph[df.node[i]][centre[count]]\n",
        "\t\t\tcount = count + 1\n",
        "\n",
        "\t\tweight = 0.0\n",
        "\t\tfor i in range(n):\n",
        "\t\t\tfor j in range(n):\n",
        "\t\t\t\tif(i<=j):\n",
        "\t\t\t\t\tweight+= tree[i][j]\n",
        "\n",
        "\t\treturn weight"
      ]
    },
    {
      "cell_type": "code",
      "source": [
        "def tree_plot(tree):\n",
        "  l=[]\n",
        "  #file=open(\"b.txt\")\n",
        "  #arr = np.genfromtxt(file,delimiter=' ',dtype=None)\n",
        "  arr = np.array(tree)\n",
        "  #print(arr)\n",
        "  for i in range(0,n):\n",
        "      for j in range(0,n):\n",
        "          if(arr[i][j] != 0.):\n",
        "              l.append((i,j))\n",
        "  #print(l)\n",
        "  plt.figure(figsize = (10, 6))\n",
        "  G=nx.DiGraph()\n",
        "  G.add_edges_from(l)\n",
        "  pos=nx.spring_layout(G)\n",
        "  nx.draw_networkx_nodes(G,pos,node_size=205)\n",
        "  nx.draw_networkx_edges(G,pos,edgelist=G.edges(),edge_color='red')\n",
        "  nx.draw_networkx_labels(G,pos)\n",
        "  plt.show()"
      ],
      "metadata": {
        "id": "j-Of8g6i4i_h"
      },
      "execution_count": null,
      "outputs": []
    },
    {
      "cell_type": "code",
      "execution_count": null,
      "metadata": {
        "id": "Dx7p3f4ynISs"
      },
      "outputs": [],
      "source": [
        "f = open('/estein1000.15.txt','r')\n",
        "k =100\n",
        "n = int(f.readline())\n",
        "x = []\n",
        "y = []\n",
        "lines = f.readlines()\n",
        "for line in lines:\n",
        "    a = line.split()\n",
        "    x.append(float(a[0]))\n",
        "    y.append(float(a[1]))\n",
        "\n",
        "graph = [[0 for x in range(n)] for y in range(n)] \n",
        "for i in range(0,n):\n",
        "  for j in range(0,n):\n",
        "    #print(i,j)\n",
        "    graph[i][j] = dis_euclidean(x[i],x[j],y[i],y[j])\n",
        "\n",
        "#print(graph)\n",
        "\n",
        "dataset = pd.DataFrame({\n",
        "    'x': x,\n",
        "    'y': y\n",
        "    })\n",
        "#df.head()"
      ]
    },
    {
      "cell_type": "markdown",
      "source": [
        "# New Section"
      ],
      "metadata": {
        "id": "vSWJIrRFBYd_"
      }
    },
    {
      "cell_type": "markdown",
      "source": [
        "# New Section"
      ],
      "metadata": {
        "id": "VyOuNs-3BZQh"
      }
    },
    {
      "cell_type": "markdown",
      "source": [
        "n = number of points\n",
        "k = number of clusters\n",
        "i = number of iterations\n",
        "\n",
        "birch: O(n*i)\n",
        "\n",
        "for finding centre: O(k*n)\n",
        "\n",
        "for finding minimum centre data point: O(k*n)\n",
        "\n",
        "Prim: O(n^2)\n",
        "\n",
        "Make Tree: O(k*n)"
      ],
      "metadata": {
        "id": "j6aCIrux7hEx"
      }
    },
    {
      "cell_type": "code",
      "source": [
        "weight=0\n",
        "temp=99.0\n",
        "for i in range(1): \n",
        "  start = timeit.default_timer()\n",
        "  centre=birch()\n",
        "  #print(centre)\n",
        "  tree=primMST(centre[0])\n",
        "  weight = make_tree(tree)\n",
        "  #print(weight)\n",
        "  stop = timeit.default_timer()\n",
        "  if(temp>weight):\n",
        "    temp=weight\n",
        "    time=stop - start\n",
        "  #tree_plot(tree)\n",
        "  \n",
        "print('Time: ', time)  \n",
        "print(\"weight\",temp)\n",
        " "
      ],
      "metadata": {
        "colab": {
          "base_uri": "https://localhost:8080/"
        },
        "id": "NJ6-MAjM8cv9",
        "outputId": "a616d7a2-2c89-4179-eae7-17a745bc6913"
      },
      "execution_count": null,
      "outputs": [
        {
          "output_type": "stream",
          "name": "stdout",
          "text": [
            "Time:  3.7091191640001853\n",
            "weight 41.72607075699958\n"
          ]
        }
      ]
    }
  ],
  "metadata": {
    "colab": {
      "collapsed_sections": [],
      "name": "Birch_Based_Heuristic.ipynb",
      "provenance": [],
      "include_colab_link": true
    },
    "kernelspec": {
      "display_name": "Python 3",
      "name": "python3"
    },
    "language_info": {
      "name": "python"
    }
  },
  "nbformat": 4,
  "nbformat_minor": 0
}